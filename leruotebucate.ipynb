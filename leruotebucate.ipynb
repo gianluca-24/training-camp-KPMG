{
 "cells": [
  {
   "cell_type": "code",
   "execution_count": 38,
   "metadata": {},
   "outputs": [],
   "source": [
    "import numpy as np\n",
    "import pandas as pd\n",
    "import matplotlib.pyplot as plt\n",
    "\n",
    "df_train = pd.read_csv('train.csv')"
   ]
  },
  {
   "cell_type": "code",
   "execution_count": 39,
   "metadata": {},
   "outputs": [
    {
     "data": {
      "text/html": [
       "<div>\n",
       "<style scoped>\n",
       "    .dataframe tbody tr th:only-of-type {\n",
       "        vertical-align: middle;\n",
       "    }\n",
       "\n",
       "    .dataframe tbody tr th {\n",
       "        vertical-align: top;\n",
       "    }\n",
       "\n",
       "    .dataframe thead th {\n",
       "        text-align: right;\n",
       "    }\n",
       "</style>\n",
       "<table border=\"1\" class=\"dataframe\">\n",
       "  <thead>\n",
       "    <tr style=\"text-align: right;\">\n",
       "      <th></th>\n",
       "      <th>volume_kg</th>\n",
       "      <th>distribution_channel</th>\n",
       "      <th>customer</th>\n",
       "      <th>brand</th>\n",
       "      <th>channel</th>\n",
       "      <th>store_format</th>\n",
       "      <th>category</th>\n",
       "      <th>year</th>\n",
       "      <th>month</th>\n",
       "    </tr>\n",
       "  </thead>\n",
       "  <tbody>\n",
       "    <tr>\n",
       "      <th>0</th>\n",
       "      <td>460.026585</td>\n",
       "      <td>0</td>\n",
       "      <td>1</td>\n",
       "      <td>1</td>\n",
       "      <td>FOOD SERVICE</td>\n",
       "      <td>3</td>\n",
       "      <td>3</td>\n",
       "      <td>2010</td>\n",
       "      <td>1</td>\n",
       "    </tr>\n",
       "    <tr>\n",
       "      <th>1</th>\n",
       "      <td>456.944328</td>\n",
       "      <td>0</td>\n",
       "      <td>1</td>\n",
       "      <td>1</td>\n",
       "      <td>FOOD SERVICE</td>\n",
       "      <td>3</td>\n",
       "      <td>3</td>\n",
       "      <td>2010</td>\n",
       "      <td>2</td>\n",
       "    </tr>\n",
       "    <tr>\n",
       "      <th>2</th>\n",
       "      <td>926.790243</td>\n",
       "      <td>0</td>\n",
       "      <td>1</td>\n",
       "      <td>1</td>\n",
       "      <td>FOOD SERVICE</td>\n",
       "      <td>3</td>\n",
       "      <td>3</td>\n",
       "      <td>2010</td>\n",
       "      <td>3</td>\n",
       "    </tr>\n",
       "    <tr>\n",
       "      <th>3</th>\n",
       "      <td>762.549167</td>\n",
       "      <td>0</td>\n",
       "      <td>1</td>\n",
       "      <td>1</td>\n",
       "      <td>FOOD SERVICE</td>\n",
       "      <td>3</td>\n",
       "      <td>3</td>\n",
       "      <td>2010</td>\n",
       "      <td>4</td>\n",
       "    </tr>\n",
       "    <tr>\n",
       "      <th>4</th>\n",
       "      <td>1132.060704</td>\n",
       "      <td>0</td>\n",
       "      <td>1</td>\n",
       "      <td>1</td>\n",
       "      <td>FOOD SERVICE</td>\n",
       "      <td>3</td>\n",
       "      <td>3</td>\n",
       "      <td>2010</td>\n",
       "      <td>5</td>\n",
       "    </tr>\n",
       "    <tr>\n",
       "      <th>...</th>\n",
       "      <td>...</td>\n",
       "      <td>...</td>\n",
       "      <td>...</td>\n",
       "      <td>...</td>\n",
       "      <td>...</td>\n",
       "      <td>...</td>\n",
       "      <td>...</td>\n",
       "      <td>...</td>\n",
       "      <td>...</td>\n",
       "    </tr>\n",
       "    <tr>\n",
       "      <th>5788</th>\n",
       "      <td>938.077344</td>\n",
       "      <td>1</td>\n",
       "      <td>15</td>\n",
       "      <td>1</td>\n",
       "      <td>DISCOUNTS</td>\n",
       "      <td>1</td>\n",
       "      <td>10</td>\n",
       "      <td>2019</td>\n",
       "      <td>12</td>\n",
       "    </tr>\n",
       "    <tr>\n",
       "      <th>5789</th>\n",
       "      <td>464.815891</td>\n",
       "      <td>1</td>\n",
       "      <td>15</td>\n",
       "      <td>1</td>\n",
       "      <td>DISCOUNTS</td>\n",
       "      <td>1</td>\n",
       "      <td>10</td>\n",
       "      <td>2020</td>\n",
       "      <td>1</td>\n",
       "    </tr>\n",
       "    <tr>\n",
       "      <th>5790</th>\n",
       "      <td>471.421097</td>\n",
       "      <td>1</td>\n",
       "      <td>15</td>\n",
       "      <td>1</td>\n",
       "      <td>DISCOUNTS</td>\n",
       "      <td>1</td>\n",
       "      <td>10</td>\n",
       "      <td>2020</td>\n",
       "      <td>2</td>\n",
       "    </tr>\n",
       "    <tr>\n",
       "      <th>5791</th>\n",
       "      <td>12611.841468</td>\n",
       "      <td>1</td>\n",
       "      <td>15</td>\n",
       "      <td>1</td>\n",
       "      <td>DISCOUNTS</td>\n",
       "      <td>1</td>\n",
       "      <td>10</td>\n",
       "      <td>2020</td>\n",
       "      <td>3</td>\n",
       "    </tr>\n",
       "    <tr>\n",
       "      <th>5792</th>\n",
       "      <td>277.491080</td>\n",
       "      <td>1</td>\n",
       "      <td>15</td>\n",
       "      <td>1</td>\n",
       "      <td>DISCOUNTS</td>\n",
       "      <td>1</td>\n",
       "      <td>10</td>\n",
       "      <td>2020</td>\n",
       "      <td>4</td>\n",
       "    </tr>\n",
       "  </tbody>\n",
       "</table>\n",
       "<p>5793 rows × 9 columns</p>\n",
       "</div>"
      ],
      "text/plain": [
       "         volume_kg  distribution_channel  customer  brand       channel  \\\n",
       "0       460.026585                     0         1      1  FOOD SERVICE   \n",
       "1       456.944328                     0         1      1  FOOD SERVICE   \n",
       "2       926.790243                     0         1      1  FOOD SERVICE   \n",
       "3       762.549167                     0         1      1  FOOD SERVICE   \n",
       "4      1132.060704                     0         1      1  FOOD SERVICE   \n",
       "...            ...                   ...       ...    ...           ...   \n",
       "5788    938.077344                     1        15      1     DISCOUNTS   \n",
       "5789    464.815891                     1        15      1     DISCOUNTS   \n",
       "5790    471.421097                     1        15      1     DISCOUNTS   \n",
       "5791  12611.841468                     1        15      1     DISCOUNTS   \n",
       "5792    277.491080                     1        15      1     DISCOUNTS   \n",
       "\n",
       "      store_format  category  year  month  \n",
       "0                3         3  2010      1  \n",
       "1                3         3  2010      2  \n",
       "2                3         3  2010      3  \n",
       "3                3         3  2010      4  \n",
       "4                3         3  2010      5  \n",
       "...            ...       ...   ...    ...  \n",
       "5788             1        10  2019     12  \n",
       "5789             1        10  2020      1  \n",
       "5790             1        10  2020      2  \n",
       "5791             1        10  2020      3  \n",
       "5792             1        10  2020      4  \n",
       "\n",
       "[5793 rows x 9 columns]"
      ]
     },
     "execution_count": 39,
     "metadata": {},
     "output_type": "execute_result"
    }
   ],
   "source": [
    "df_train"
   ]
  },
  {
   "cell_type": "code",
   "execution_count": 40,
   "metadata": {},
   "outputs": [
    {
     "name": "stderr",
     "output_type": "stream",
     "text": [
      "C:\\Users\\Public\\Documents\\Wondershare\\CreatorTemp\\ipykernel_10408\\176964499.py:1: FutureWarning: Series.__getitem__ treating keys as positions is deprecated. In a future version, integer keys will always be treated as labels (consistent with DataFrame behavior). To access a value by position, use `ser.iloc[pos]`\n",
      "  df_train[\"serie_name\"] = pd.concat([df_train[\"distribution_channel\"], df_train[\"customer\"], df_train[\"brand\"], df_train[\"channel\"], df_train[\"store_format\"], df_train[\"category\"]], axis=1).apply(lambda x: f\"{x[0]}_{x[1]}_{x[2]}_{x[3]}_{x[4]}_{x[5]}\", axis=1)\n"
     ]
    },
    {
     "data": {
      "text/html": [
       "<div>\n",
       "<style scoped>\n",
       "    .dataframe tbody tr th:only-of-type {\n",
       "        vertical-align: middle;\n",
       "    }\n",
       "\n",
       "    .dataframe tbody tr th {\n",
       "        vertical-align: top;\n",
       "    }\n",
       "\n",
       "    .dataframe thead th {\n",
       "        text-align: right;\n",
       "    }\n",
       "</style>\n",
       "<table border=\"1\" class=\"dataframe\">\n",
       "  <thead>\n",
       "    <tr style=\"text-align: right;\">\n",
       "      <th></th>\n",
       "      <th>volume_kg</th>\n",
       "      <th>distribution_channel</th>\n",
       "      <th>customer</th>\n",
       "      <th>brand</th>\n",
       "      <th>channel</th>\n",
       "      <th>store_format</th>\n",
       "      <th>category</th>\n",
       "      <th>year</th>\n",
       "      <th>month</th>\n",
       "      <th>serie_name</th>\n",
       "    </tr>\n",
       "  </thead>\n",
       "  <tbody>\n",
       "    <tr>\n",
       "      <th>0</th>\n",
       "      <td>460.026585</td>\n",
       "      <td>0</td>\n",
       "      <td>1</td>\n",
       "      <td>1</td>\n",
       "      <td>FOOD SERVICE</td>\n",
       "      <td>3</td>\n",
       "      <td>3</td>\n",
       "      <td>2010</td>\n",
       "      <td>1</td>\n",
       "      <td>0_1_1_FOOD SERVICE_3_3</td>\n",
       "    </tr>\n",
       "    <tr>\n",
       "      <th>1</th>\n",
       "      <td>456.944328</td>\n",
       "      <td>0</td>\n",
       "      <td>1</td>\n",
       "      <td>1</td>\n",
       "      <td>FOOD SERVICE</td>\n",
       "      <td>3</td>\n",
       "      <td>3</td>\n",
       "      <td>2010</td>\n",
       "      <td>2</td>\n",
       "      <td>0_1_1_FOOD SERVICE_3_3</td>\n",
       "    </tr>\n",
       "    <tr>\n",
       "      <th>2</th>\n",
       "      <td>926.790243</td>\n",
       "      <td>0</td>\n",
       "      <td>1</td>\n",
       "      <td>1</td>\n",
       "      <td>FOOD SERVICE</td>\n",
       "      <td>3</td>\n",
       "      <td>3</td>\n",
       "      <td>2010</td>\n",
       "      <td>3</td>\n",
       "      <td>0_1_1_FOOD SERVICE_3_3</td>\n",
       "    </tr>\n",
       "    <tr>\n",
       "      <th>3</th>\n",
       "      <td>762.549167</td>\n",
       "      <td>0</td>\n",
       "      <td>1</td>\n",
       "      <td>1</td>\n",
       "      <td>FOOD SERVICE</td>\n",
       "      <td>3</td>\n",
       "      <td>3</td>\n",
       "      <td>2010</td>\n",
       "      <td>4</td>\n",
       "      <td>0_1_1_FOOD SERVICE_3_3</td>\n",
       "    </tr>\n",
       "    <tr>\n",
       "      <th>4</th>\n",
       "      <td>1132.060704</td>\n",
       "      <td>0</td>\n",
       "      <td>1</td>\n",
       "      <td>1</td>\n",
       "      <td>FOOD SERVICE</td>\n",
       "      <td>3</td>\n",
       "      <td>3</td>\n",
       "      <td>2010</td>\n",
       "      <td>5</td>\n",
       "      <td>0_1_1_FOOD SERVICE_3_3</td>\n",
       "    </tr>\n",
       "    <tr>\n",
       "      <th>...</th>\n",
       "      <td>...</td>\n",
       "      <td>...</td>\n",
       "      <td>...</td>\n",
       "      <td>...</td>\n",
       "      <td>...</td>\n",
       "      <td>...</td>\n",
       "      <td>...</td>\n",
       "      <td>...</td>\n",
       "      <td>...</td>\n",
       "      <td>...</td>\n",
       "    </tr>\n",
       "    <tr>\n",
       "      <th>5788</th>\n",
       "      <td>938.077344</td>\n",
       "      <td>1</td>\n",
       "      <td>15</td>\n",
       "      <td>1</td>\n",
       "      <td>DISCOUNTS</td>\n",
       "      <td>1</td>\n",
       "      <td>10</td>\n",
       "      <td>2019</td>\n",
       "      <td>12</td>\n",
       "      <td>1_15_1_DISCOUNTS_1_10</td>\n",
       "    </tr>\n",
       "    <tr>\n",
       "      <th>5789</th>\n",
       "      <td>464.815891</td>\n",
       "      <td>1</td>\n",
       "      <td>15</td>\n",
       "      <td>1</td>\n",
       "      <td>DISCOUNTS</td>\n",
       "      <td>1</td>\n",
       "      <td>10</td>\n",
       "      <td>2020</td>\n",
       "      <td>1</td>\n",
       "      <td>1_15_1_DISCOUNTS_1_10</td>\n",
       "    </tr>\n",
       "    <tr>\n",
       "      <th>5790</th>\n",
       "      <td>471.421097</td>\n",
       "      <td>1</td>\n",
       "      <td>15</td>\n",
       "      <td>1</td>\n",
       "      <td>DISCOUNTS</td>\n",
       "      <td>1</td>\n",
       "      <td>10</td>\n",
       "      <td>2020</td>\n",
       "      <td>2</td>\n",
       "      <td>1_15_1_DISCOUNTS_1_10</td>\n",
       "    </tr>\n",
       "    <tr>\n",
       "      <th>5791</th>\n",
       "      <td>12611.841468</td>\n",
       "      <td>1</td>\n",
       "      <td>15</td>\n",
       "      <td>1</td>\n",
       "      <td>DISCOUNTS</td>\n",
       "      <td>1</td>\n",
       "      <td>10</td>\n",
       "      <td>2020</td>\n",
       "      <td>3</td>\n",
       "      <td>1_15_1_DISCOUNTS_1_10</td>\n",
       "    </tr>\n",
       "    <tr>\n",
       "      <th>5792</th>\n",
       "      <td>277.491080</td>\n",
       "      <td>1</td>\n",
       "      <td>15</td>\n",
       "      <td>1</td>\n",
       "      <td>DISCOUNTS</td>\n",
       "      <td>1</td>\n",
       "      <td>10</td>\n",
       "      <td>2020</td>\n",
       "      <td>4</td>\n",
       "      <td>1_15_1_DISCOUNTS_1_10</td>\n",
       "    </tr>\n",
       "  </tbody>\n",
       "</table>\n",
       "<p>5793 rows × 10 columns</p>\n",
       "</div>"
      ],
      "text/plain": [
       "         volume_kg  distribution_channel  customer  brand       channel  \\\n",
       "0       460.026585                     0         1      1  FOOD SERVICE   \n",
       "1       456.944328                     0         1      1  FOOD SERVICE   \n",
       "2       926.790243                     0         1      1  FOOD SERVICE   \n",
       "3       762.549167                     0         1      1  FOOD SERVICE   \n",
       "4      1132.060704                     0         1      1  FOOD SERVICE   \n",
       "...            ...                   ...       ...    ...           ...   \n",
       "5788    938.077344                     1        15      1     DISCOUNTS   \n",
       "5789    464.815891                     1        15      1     DISCOUNTS   \n",
       "5790    471.421097                     1        15      1     DISCOUNTS   \n",
       "5791  12611.841468                     1        15      1     DISCOUNTS   \n",
       "5792    277.491080                     1        15      1     DISCOUNTS   \n",
       "\n",
       "      store_format  category  year  month              serie_name  \n",
       "0                3         3  2010      1  0_1_1_FOOD SERVICE_3_3  \n",
       "1                3         3  2010      2  0_1_1_FOOD SERVICE_3_3  \n",
       "2                3         3  2010      3  0_1_1_FOOD SERVICE_3_3  \n",
       "3                3         3  2010      4  0_1_1_FOOD SERVICE_3_3  \n",
       "4                3         3  2010      5  0_1_1_FOOD SERVICE_3_3  \n",
       "...            ...       ...   ...    ...                     ...  \n",
       "5788             1        10  2019     12   1_15_1_DISCOUNTS_1_10  \n",
       "5789             1        10  2020      1   1_15_1_DISCOUNTS_1_10  \n",
       "5790             1        10  2020      2   1_15_1_DISCOUNTS_1_10  \n",
       "5791             1        10  2020      3   1_15_1_DISCOUNTS_1_10  \n",
       "5792             1        10  2020      4   1_15_1_DISCOUNTS_1_10  \n",
       "\n",
       "[5793 rows x 10 columns]"
      ]
     },
     "execution_count": 40,
     "metadata": {},
     "output_type": "execute_result"
    }
   ],
   "source": [
    "df_train[\"serie_name\"] = pd.concat([df_train[\"distribution_channel\"], df_train[\"customer\"], df_train[\"brand\"], df_train[\"channel\"], df_train[\"store_format\"], df_train[\"category\"]], axis=1).apply(lambda x: f\"{x[0]}_{x[1]}_{x[2]}_{x[3]}_{x[4]}_{x[5]}\", axis=1)\n",
    "df_train"
   ]
  },
  {
   "cell_type": "code",
   "execution_count": 41,
   "metadata": {},
   "outputs": [
    {
     "name": "stdout",
     "output_type": "stream",
     "text": [
      "Number of unique time series:  48\n"
     ]
    }
   ],
   "source": [
    "print(\"Number of unique time series: \", df_train[\"serie_name\"].nunique())"
   ]
  },
  {
   "cell_type": "markdown",
   "metadata": {},
   "source": [
    "Example plot of one serie"
   ]
  },
  {
   "cell_type": "code",
   "execution_count": 43,
   "metadata": {},
   "outputs": [
    {
     "data": {
      "text/plain": [
       "[<matplotlib.lines.Line2D at 0x13672348710>]"
      ]
     },
     "execution_count": 43,
     "metadata": {},
     "output_type": "execute_result"
    },
    {
     "data": {
      "image/png": "[encoded data removed]",
      "text/plain": [
       "<Figure size 640x480 with 1 Axes>"
      ]
     },
     "metadata": {},
     "output_type": "display_data"
    }
   ],
   "source": [
    "ts1 = df_train[df_train[\"serie_name\"] == \"1_15_1_DISCOUNTS_1_10\"]\n",
    "plt.plot(ts1.index, ts1[\"volume_kg\"])"
   ]
  },
  {
   "cell_type": "code",
   "execution_count": 51,
   "metadata": {},
   "outputs": [
    {
     "data": {
      "text/plain": [
       "<matplotlib.collections.PathCollection at 0x136723cc190>"
      ]
     },
     "execution_count": 51,
     "metadata": {},
     "output_type": "execute_result"
    },
    {
     "data": {
      "image/png": "[encoded data removed]",
      "text/plain": [
       "<Figure size 640x480 with 1 Axes>"
      ]
     },
     "metadata": {},
     "output_type": "display_data"
    }
   ],
   "source": [
    "plt.scatter(ts1.index, ts1[\"volume_kg\"])"
   ]
  },
  {
   "cell_type": "code",
   "execution_count": 47,
   "metadata": {},
   "outputs": [
    {
     "name": "stderr",
     "output_type": "stream",
     "text": [
      "C:\\Users\\Public\\Documents\\Wondershare\\CreatorTemp\\ipykernel_10408\\2544535459.py:1: SettingWithCopyWarning: \n",
      "A value is trying to be set on a copy of a slice from a DataFrame\n",
      "\n",
      "See the caveats in the documentation: https://pandas.pydata.org/pandas-docs/stable/user_guide/indexing.html#returning-a-view-versus-a-copy\n",
      "  ts1.drop([\"distribution_channel\", \"customer\", \"brand\", \"channel\", \"store_format\", \"category\"], axis=1, inplace=True)\n"
     ]
    }
   ],
   "source": [
    "ts1.drop([\"distribution_channel\", \"customer\", \"brand\", \"channel\", \"store_format\", \"category\"], axis=1, inplace=True)"
   ]
  },
  {
   "cell_type": "code",
   "execution_count": 48,
   "metadata": {},
   "outputs": [
    {
     "data": {
      "text/html": [
       "<div>\n",
       "<style scoped>\n",
       "    .dataframe tbody tr th:only-of-type {\n",
       "        vertical-align: middle;\n",
       "    }\n",
       "\n",
       "    .dataframe tbody tr th {\n",
       "        vertical-align: top;\n",
       "    }\n",
       "\n",
       "    .dataframe thead th {\n",
       "        text-align: right;\n",
       "    }\n",
       "</style>\n",
       "<table border=\"1\" class=\"dataframe\">\n",
       "  <thead>\n",
       "    <tr style=\"text-align: right;\">\n",
       "      <th></th>\n",
       "      <th>volume_kg</th>\n",
       "      <th>year</th>\n",
       "      <th>month</th>\n",
       "      <th>serie_name</th>\n",
       "    </tr>\n",
       "  </thead>\n",
       "  <tbody>\n",
       "    <tr>\n",
       "      <th>5690</th>\n",
       "      <td>16204.744324</td>\n",
       "      <td>2010</td>\n",
       "      <td>1</td>\n",
       "      <td>1_15_1_DISCOUNTS_1_10</td>\n",
       "    </tr>\n",
       "    <tr>\n",
       "      <th>5691</th>\n",
       "      <td>7598.342304</td>\n",
       "      <td>2010</td>\n",
       "      <td>3</td>\n",
       "      <td>1_15_1_DISCOUNTS_1_10</td>\n",
       "    </tr>\n",
       "    <tr>\n",
       "      <th>5692</th>\n",
       "      <td>7617.416265</td>\n",
       "      <td>2010</td>\n",
       "      <td>4</td>\n",
       "      <td>1_15_1_DISCOUNTS_1_10</td>\n",
       "    </tr>\n",
       "    <tr>\n",
       "      <th>5693</th>\n",
       "      <td>9333.721886</td>\n",
       "      <td>2010</td>\n",
       "      <td>5</td>\n",
       "      <td>1_15_1_DISCOUNTS_1_10</td>\n",
       "    </tr>\n",
       "    <tr>\n",
       "      <th>5694</th>\n",
       "      <td>22708.317207</td>\n",
       "      <td>2010</td>\n",
       "      <td>7</td>\n",
       "      <td>1_15_1_DISCOUNTS_1_10</td>\n",
       "    </tr>\n",
       "    <tr>\n",
       "      <th>...</th>\n",
       "      <td>...</td>\n",
       "      <td>...</td>\n",
       "      <td>...</td>\n",
       "      <td>...</td>\n",
       "    </tr>\n",
       "    <tr>\n",
       "      <th>5788</th>\n",
       "      <td>938.077344</td>\n",
       "      <td>2019</td>\n",
       "      <td>12</td>\n",
       "      <td>1_15_1_DISCOUNTS_1_10</td>\n",
       "    </tr>\n",
       "    <tr>\n",
       "      <th>5789</th>\n",
       "      <td>464.815891</td>\n",
       "      <td>2020</td>\n",
       "      <td>1</td>\n",
       "      <td>1_15_1_DISCOUNTS_1_10</td>\n",
       "    </tr>\n",
       "    <tr>\n",
       "      <th>5790</th>\n",
       "      <td>471.421097</td>\n",
       "      <td>2020</td>\n",
       "      <td>2</td>\n",
       "      <td>1_15_1_DISCOUNTS_1_10</td>\n",
       "    </tr>\n",
       "    <tr>\n",
       "      <th>5791</th>\n",
       "      <td>12611.841468</td>\n",
       "      <td>2020</td>\n",
       "      <td>3</td>\n",
       "      <td>1_15_1_DISCOUNTS_1_10</td>\n",
       "    </tr>\n",
       "    <tr>\n",
       "      <th>5792</th>\n",
       "      <td>277.491080</td>\n",
       "      <td>2020</td>\n",
       "      <td>4</td>\n",
       "      <td>1_15_1_DISCOUNTS_1_10</td>\n",
       "    </tr>\n",
       "  </tbody>\n",
       "</table>\n",
       "<p>103 rows × 4 columns</p>\n",
       "</div>"
      ],
      "text/plain": [
       "         volume_kg  year  month             serie_name\n",
       "5690  16204.744324  2010      1  1_15_1_DISCOUNTS_1_10\n",
       "5691   7598.342304  2010      3  1_15_1_DISCOUNTS_1_10\n",
       "5692   7617.416265  2010      4  1_15_1_DISCOUNTS_1_10\n",
       "5693   9333.721886  2010      5  1_15_1_DISCOUNTS_1_10\n",
       "5694  22708.317207  2010      7  1_15_1_DISCOUNTS_1_10\n",
       "...            ...   ...    ...                    ...\n",
       "5788    938.077344  2019     12  1_15_1_DISCOUNTS_1_10\n",
       "5789    464.815891  2020      1  1_15_1_DISCOUNTS_1_10\n",
       "5790    471.421097  2020      2  1_15_1_DISCOUNTS_1_10\n",
       "5791  12611.841468  2020      3  1_15_1_DISCOUNTS_1_10\n",
       "5792    277.491080  2020      4  1_15_1_DISCOUNTS_1_10\n",
       "\n",
       "[103 rows x 4 columns]"
      ]
     },
     "execution_count": 48,
     "metadata": {},
     "output_type": "execute_result"
    }
   ],
   "source": [
    "ts1"
   ]
  },
  {
   "cell_type": "code",
   "execution_count": 56,
   "metadata": {},
   "outputs": [],
   "source": [
    "# Convert to datetime\n",
    "df_train['date'] = pd.to_datetime(df_train[['year', 'month']].assign(day=1))\n",
    "df_train.set_index([\"serie_name\",'date'], inplace=True)"
   ]
  },
  {
   "cell_type": "code",
   "execution_count": 58,
   "metadata": {},
   "outputs": [],
   "source": [
    "df_train.drop([\"distribution_channel\", \"customer\", \"brand\", \"channel\", \"store_format\", \"category\",\"year\", \"month\"], axis=1, inplace=True)"
   ]
  },
  {
   "cell_type": "code",
   "execution_count": 67,
   "metadata": {},
   "outputs": [
    {
     "data": {
      "text/html": [
       "<div>\n",
       "<style scoped>\n",
       "    .dataframe tbody tr th:only-of-type {\n",
       "        vertical-align: middle;\n",
       "    }\n",
       "\n",
       "    .dataframe tbody tr th {\n",
       "        vertical-align: top;\n",
       "    }\n",
       "\n",
       "    .dataframe thead th {\n",
       "        text-align: right;\n",
       "    }\n",
       "</style>\n",
       "<table border=\"1\" class=\"dataframe\">\n",
       "  <thead>\n",
       "    <tr style=\"text-align: right;\">\n",
       "      <th></th>\n",
       "      <th></th>\n",
       "      <th>volume_kg</th>\n",
       "    </tr>\n",
       "    <tr>\n",
       "      <th>serie_name</th>\n",
       "      <th>date</th>\n",
       "      <th></th>\n",
       "    </tr>\n",
       "  </thead>\n",
       "  <tbody>\n",
       "    <tr>\n",
       "      <th rowspan=\"5\" valign=\"top\">0_1_1_FOOD SERVICE_3_3</th>\n",
       "      <th>2010-01-01</th>\n",
       "      <td>460.026585</td>\n",
       "    </tr>\n",
       "    <tr>\n",
       "      <th>2010-02-01</th>\n",
       "      <td>456.944328</td>\n",
       "    </tr>\n",
       "    <tr>\n",
       "      <th>2010-03-01</th>\n",
       "      <td>926.790243</td>\n",
       "    </tr>\n",
       "    <tr>\n",
       "      <th>2010-04-01</th>\n",
       "      <td>762.549167</td>\n",
       "    </tr>\n",
       "    <tr>\n",
       "      <th>2010-05-01</th>\n",
       "      <td>1132.060704</td>\n",
       "    </tr>\n",
       "    <tr>\n",
       "      <th>...</th>\n",
       "      <th>...</th>\n",
       "      <td>...</td>\n",
       "    </tr>\n",
       "    <tr>\n",
       "      <th rowspan=\"5\" valign=\"top\">1_15_1_DISCOUNTS_1_10</th>\n",
       "      <th>2019-12-01</th>\n",
       "      <td>938.077344</td>\n",
       "    </tr>\n",
       "    <tr>\n",
       "      <th>2020-01-01</th>\n",
       "      <td>464.815891</td>\n",
       "    </tr>\n",
       "    <tr>\n",
       "      <th>2020-02-01</th>\n",
       "      <td>471.421097</td>\n",
       "    </tr>\n",
       "    <tr>\n",
       "      <th>2020-03-01</th>\n",
       "      <td>12611.841468</td>\n",
       "    </tr>\n",
       "    <tr>\n",
       "      <th>2020-04-01</th>\n",
       "      <td>277.491080</td>\n",
       "    </tr>\n",
       "  </tbody>\n",
       "</table>\n",
       "<p>5793 rows × 1 columns</p>\n",
       "</div>"
      ],
      "text/plain": [
       "                                      volume_kg\n",
       "serie_name             date                    \n",
       "0_1_1_FOOD SERVICE_3_3 2010-01-01    460.026585\n",
       "                       2010-02-01    456.944328\n",
       "                       2010-03-01    926.790243\n",
       "                       2010-04-01    762.549167\n",
       "                       2010-05-01   1132.060704\n",
       "...                                         ...\n",
       "1_15_1_DISCOUNTS_1_10  2019-12-01    938.077344\n",
       "                       2020-01-01    464.815891\n",
       "                       2020-02-01    471.421097\n",
       "                       2020-03-01  12611.841468\n",
       "                       2020-04-01    277.491080\n",
       "\n",
       "[5793 rows x 1 columns]"
      ]
     },
     "execution_count": 67,
     "metadata": {},
     "output_type": "execute_result"
    }
   ],
   "source": [
    "df_train"
   ]
  },
  {
   "cell_type": "code",
   "execution_count": 68,
   "metadata": {},
   "outputs": [
    {
     "data": {
      "text/plain": [
       "Index(['0_1_1_FOOD SERVICE_3_3', '0_1_1_FOOD SERVICE_3_6',\n",
       "       '0_1_1_FOOD SERVICE_3_10', '0_1_2_FOOD SERVICE_3_10',\n",
       "       '0_4_0_FOOD SERVICE_3_10', '0_4_1_FOOD SERVICE_3_6',\n",
       "       '0_4_1_FOOD SERVICE_3_10', '0_4_2_FOOD SERVICE_3_10',\n",
       "       '0_4_3_FOOD SERVICE_3_10', '0_5_0_FOOD SERVICE_3_10',\n",
       "       '0_5_1_FOOD SERVICE_3_3', '0_5_1_FOOD SERVICE_3_6',\n",
       "       '0_5_1_FOOD SERVICE_3_10', '0_5_2_FOOD SERVICE_3_10',\n",
       "       '0_5_3_FOOD SERVICE_3_10', '0_6_0_FOOD SERVICE_3_10',\n",
       "       '0_6_1_FOOD SERVICE_3_6', '0_6_1_FOOD SERVICE_3_10',\n",
       "       '0_6_2_FOOD SERVICE_3_10', '0_6_3_FOOD SERVICE_3_10',\n",
       "       '0_8_0_FOOD SERVICE_3_10', '0_8_1_FOOD SERVICE_3_3',\n",
       "       '0_8_1_FOOD SERVICE_3_6', '0_8_1_FOOD SERVICE_3_10',\n",
       "       '0_8_2_FOOD SERVICE_3_10', '0_8_3_FOOD SERVICE_3_10',\n",
       "       '1_2_1_DISCOUNTS_1_10', '1_2_2_DISCOUNTS_1_10',\n",
       "       '1_10_1_MODERN TRADE_2_6', '1_10_1_MODERN TRADE_2_10',\n",
       "       '1_10_2_MODERN TRADE_2_10', '1_11_1_MODERN TRADE_2_3',\n",
       "       '1_11_1_MODERN TRADE_2_6', '1_11_1_MODERN TRADE_2_10',\n",
       "       '1_11_2_MODERN TRADE_2_10', '1_12_1_MODERN TRADE_2_3',\n",
       "       '1_12_1_MODERN TRADE_2_6', '1_12_1_MODERN TRADE_2_8',\n",
       "       '1_12_1_MODERN TRADE_2_10', '1_12_2_MODERN TRADE_2_10',\n",
       "       '1_14_0_MODERN TRADE_2_10', '1_14_1_MODERN TRADE_2_3',\n",
       "       '1_14_1_MODERN TRADE_2_6', '1_14_1_MODERN TRADE_2_8',\n",
       "       '1_14_1_MODERN TRADE_2_10', '1_14_2_MODERN TRADE_2_10',\n",
       "       '1_14_3_MODERN TRADE_2_10', '1_15_1_DISCOUNTS_1_10'],\n",
       "      dtype='object', name='serie_name')"
      ]
     },
     "execution_count": 68,
     "metadata": {},
     "output_type": "execute_result"
    }
   ],
   "source": [
    "idxs = df_train.index.get_level_values(0).unique()\n",
    "idxs"
   ]
  },
  {
   "cell_type": "code",
   "execution_count": 72,
   "metadata": {},
   "outputs": [
    {
     "data": {
      "image/png": "[encoded data removed]",
      "text/plain": [
       "<Figure size 640x480 with 1 Axes>"
      ]
     },
     "metadata": {},
     "output_type": "display_data"
    }
   ],
   "source": [
    "# for i in range(len(idxs)):\n",
    "#     plt.plot(df_train.loc[idxs[i]].index, df_train.loc[idxs[i]][\"volume_kg\"]);\n",
    "plt.plot(df_train.loc[idxs[0]].index, df_train.loc[idxs[0]][\"volume_kg\"]);"
   ]
  },
  {
   "cell_type": "markdown",
   "metadata": {},
   "source": [
    "Test stationarity"
   ]
  },
  {
   "cell_type": "code",
   "execution_count": 73,
   "metadata": {},
   "outputs": [
    {
     "name": "stdout",
     "output_type": "stream",
     "text": [
      "ADF test statistic:  -1.2768726680639844\n",
      "p-value:  0.6396855691400679\n"
     ]
    }
   ],
   "source": [
    "from statsmodels.tsa.stattools import adfuller\n",
    "\n",
    "adf_test = adfuller(df_train.loc[idxs[0]][\"volume_kg\"])\n",
    "\n",
    "print(\"ADF test statistic: \", adf_test[0])\n",
    "print(\"p-value: \", adf_test[1])"
   ]
  },
  {
   "cell_type": "code",
   "execution_count": 84,
   "metadata": {},
   "outputs": [
    {
     "name": "stdout",
     "output_type": "stream",
     "text": [
      "p-value:  0.504058643232513\n"
     ]
    }
   ],
   "source": [
    "p_values = np.zeros(len(idxs))\n",
    "\n",
    "for i in range(len(idxs)):\n",
    "    tmp = adfuller(df_train.loc[idxs[i]][\"volume_kg\"])\n",
    "    p_values[i] = tmp[1]\n",
    "\n",
    "print(\"p-value: \", np.mean(p_values))"
   ]
  },
  {
   "cell_type": "code",
   "execution_count": 85,
   "metadata": {},
   "outputs": [
    {
     "data": {
      "text/plain": [
       "<matplotlib.collections.PathCollection at 0x13679c71d10>"
      ]
     },
     "execution_count": 85,
     "metadata": {},
     "output_type": "execute_result"
    },
    {
     "data": {
      "image/png": "[encoded data removed]",
      "text/plain": [
       "<Figure size 640x480 with 1 Axes>"
      ]
     },
     "metadata": {},
     "output_type": "display_data"
    }
   ],
   "source": [
    "plt.scatter(range(len(idxs)), p_values)"
   ]
  },
  {
   "cell_type": "markdown",
   "metadata": {},
   "source": [
    "Since a lot of p-values are > 0.05, we cinclude that the time series are not stationary\n"
   ]
  }
 ],
 "metadata": {
  "kernelspec": {
   "display_name": "base",
   "language": "python",
   "name": "python3"
  },
  "language_info": {
   "codemirror_mode": {
    "name": "ipython",
    "version": 3
   },
   "file_extension": ".py",
   "mimetype": "text/x-python",
   "name": "python",
   "nbconvert_exporter": "python",
   "pygments_lexer": "ipython3",
   "version": "3.11.7"
  }
 },
 "nbformat": 4,
 "nbformat_minor": 2
}
