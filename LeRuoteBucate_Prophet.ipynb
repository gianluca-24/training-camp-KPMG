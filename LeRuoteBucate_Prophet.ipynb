{
 "cells": [
  {
   "cell_type": "markdown",
   "metadata": {},
   "source": [
    "# Import libraries"
   ]
  },
  {
   "cell_type": "code",
   "execution_count": 6,
   "metadata": {},
   "outputs": [],
   "source": [
    "import numpy as np\n",
    "import pandas as pd\n",
    "import skforecast\n",
    "from skforecast.ForecasterAutoreg import ForecasterAutoreg\n",
    "from statsmodels.tsa.stattools import adfuller\n",
    "\n",
    "\n",
    "import warnings\n",
    "import logging\n",
    "\n",
    "# Suppress all warnings\n",
    "warnings.filterwarnings(\"ignore\")\n",
    "\n",
    "# Suppress all logging\n",
    "logging.disable(logging.CRITICAL)"
   ]
  },
  {
   "cell_type": "markdown",
   "metadata": {},
   "source": [
    "# Dataset\n",
    "\n",
    "Merge all the informations to build a serie id"
   ]
  },
  {
   "cell_type": "code",
   "execution_count": 7,
   "metadata": {},
   "outputs": [],
   "source": [
    "df_train = pd.read_csv('train.csv')\n",
    "\n",
    "# serie_name will be the id of the serie\n",
    "df_train[\"serie_name\"] = pd.concat([df_train[\"distribution_channel\"], df_train[\"customer\"], df_train[\"brand\"], df_train[\"channel\"], df_train[\"store_format\"], df_train[\"category\"]], axis=1).apply(lambda x: f\"{x[0]}_{x[1]}_{x[2]}_{x[3]}_{x[4]}_{x[5]}\", axis=1)\n",
    "\n",
    "# Convert to datetime\n",
    "df_train['date'] = pd.to_datetime(df_train[['year', 'month']].assign(day=1))\n",
    "\n",
    "# Build multiindex\n",
    "df_train.set_index([\"serie_name\",'date'], inplace=True)\n",
    "\n",
    "#df_train.drop([\"distribution_channel\", \"customer\", \"brand\", \"channel\", \"store_format\", \"category\"], axis=1, inplace=True)"
   ]
  },
  {
   "cell_type": "code",
   "execution_count": 18,
   "metadata": {},
   "outputs": [],
   "source": [
    "idxs = df_train.index.get_level_values(0).unique()"
   ]
  },
  {
   "cell_type": "code",
   "execution_count": 7,
   "metadata": {},
   "outputs": [],
   "source": [
    "#df_train.drop([\"year\", \"month\"], axis=1, inplace=True)"
   ]
  },
  {
   "cell_type": "code",
   "execution_count": 9,
   "metadata": {},
   "outputs": [
    {
     "data": {
      "text/html": [
       "<div>\n",
       "<style scoped>\n",
       "    .dataframe tbody tr th:only-of-type {\n",
       "        vertical-align: middle;\n",
       "    }\n",
       "\n",
       "    .dataframe tbody tr th {\n",
       "        vertical-align: top;\n",
       "    }\n",
       "\n",
       "    .dataframe thead th {\n",
       "        text-align: right;\n",
       "    }\n",
       "</style>\n",
       "<table border=\"1\" class=\"dataframe\">\n",
       "  <thead>\n",
       "    <tr style=\"text-align: right;\">\n",
       "      <th></th>\n",
       "      <th></th>\n",
       "      <th>volume_kg</th>\n",
       "      <th>distribution_channel</th>\n",
       "      <th>customer</th>\n",
       "      <th>brand</th>\n",
       "      <th>channel</th>\n",
       "      <th>store_format</th>\n",
       "      <th>category</th>\n",
       "      <th>year</th>\n",
       "      <th>month</th>\n",
       "    </tr>\n",
       "    <tr>\n",
       "      <th>serie_name</th>\n",
       "      <th>date</th>\n",
       "      <th></th>\n",
       "      <th></th>\n",
       "      <th></th>\n",
       "      <th></th>\n",
       "      <th></th>\n",
       "      <th></th>\n",
       "      <th></th>\n",
       "      <th></th>\n",
       "      <th></th>\n",
       "    </tr>\n",
       "  </thead>\n",
       "  <tbody>\n",
       "    <tr>\n",
       "      <th rowspan=\"5\" valign=\"top\">0_1_1_FOOD SERVICE_3_3</th>\n",
       "      <th>2010-01-01</th>\n",
       "      <td>460.026585</td>\n",
       "      <td>0</td>\n",
       "      <td>1</td>\n",
       "      <td>1</td>\n",
       "      <td>FOOD SERVICE</td>\n",
       "      <td>3</td>\n",
       "      <td>3</td>\n",
       "      <td>2010</td>\n",
       "      <td>1</td>\n",
       "    </tr>\n",
       "    <tr>\n",
       "      <th>2010-02-01</th>\n",
       "      <td>456.944328</td>\n",
       "      <td>0</td>\n",
       "      <td>1</td>\n",
       "      <td>1</td>\n",
       "      <td>FOOD SERVICE</td>\n",
       "      <td>3</td>\n",
       "      <td>3</td>\n",
       "      <td>2010</td>\n",
       "      <td>2</td>\n",
       "    </tr>\n",
       "    <tr>\n",
       "      <th>2010-03-01</th>\n",
       "      <td>926.790243</td>\n",
       "      <td>0</td>\n",
       "      <td>1</td>\n",
       "      <td>1</td>\n",
       "      <td>FOOD SERVICE</td>\n",
       "      <td>3</td>\n",
       "      <td>3</td>\n",
       "      <td>2010</td>\n",
       "      <td>3</td>\n",
       "    </tr>\n",
       "    <tr>\n",
       "      <th>2010-04-01</th>\n",
       "      <td>762.549167</td>\n",
       "      <td>0</td>\n",
       "      <td>1</td>\n",
       "      <td>1</td>\n",
       "      <td>FOOD SERVICE</td>\n",
       "      <td>3</td>\n",
       "      <td>3</td>\n",
       "      <td>2010</td>\n",
       "      <td>4</td>\n",
       "    </tr>\n",
       "    <tr>\n",
       "      <th>2010-05-01</th>\n",
       "      <td>1132.060704</td>\n",
       "      <td>0</td>\n",
       "      <td>1</td>\n",
       "      <td>1</td>\n",
       "      <td>FOOD SERVICE</td>\n",
       "      <td>3</td>\n",
       "      <td>3</td>\n",
       "      <td>2010</td>\n",
       "      <td>5</td>\n",
       "    </tr>\n",
       "    <tr>\n",
       "      <th>...</th>\n",
       "      <th>...</th>\n",
       "      <td>...</td>\n",
       "      <td>...</td>\n",
       "      <td>...</td>\n",
       "      <td>...</td>\n",
       "      <td>...</td>\n",
       "      <td>...</td>\n",
       "      <td>...</td>\n",
       "      <td>...</td>\n",
       "      <td>...</td>\n",
       "    </tr>\n",
       "    <tr>\n",
       "      <th rowspan=\"5\" valign=\"top\">1_15_1_DISCOUNTS_1_10</th>\n",
       "      <th>2019-12-01</th>\n",
       "      <td>938.077344</td>\n",
       "      <td>1</td>\n",
       "      <td>15</td>\n",
       "      <td>1</td>\n",
       "      <td>DISCOUNTS</td>\n",
       "      <td>1</td>\n",
       "      <td>10</td>\n",
       "      <td>2019</td>\n",
       "      <td>12</td>\n",
       "    </tr>\n",
       "    <tr>\n",
       "      <th>2020-01-01</th>\n",
       "      <td>464.815891</td>\n",
       "      <td>1</td>\n",
       "      <td>15</td>\n",
       "      <td>1</td>\n",
       "      <td>DISCOUNTS</td>\n",
       "      <td>1</td>\n",
       "      <td>10</td>\n",
       "      <td>2020</td>\n",
       "      <td>1</td>\n",
       "    </tr>\n",
       "    <tr>\n",
       "      <th>2020-02-01</th>\n",
       "      <td>471.421097</td>\n",
       "      <td>1</td>\n",
       "      <td>15</td>\n",
       "      <td>1</td>\n",
       "      <td>DISCOUNTS</td>\n",
       "      <td>1</td>\n",
       "      <td>10</td>\n",
       "      <td>2020</td>\n",
       "      <td>2</td>\n",
       "    </tr>\n",
       "    <tr>\n",
       "      <th>2020-03-01</th>\n",
       "      <td>12611.841468</td>\n",
       "      <td>1</td>\n",
       "      <td>15</td>\n",
       "      <td>1</td>\n",
       "      <td>DISCOUNTS</td>\n",
       "      <td>1</td>\n",
       "      <td>10</td>\n",
       "      <td>2020</td>\n",
       "      <td>3</td>\n",
       "    </tr>\n",
       "    <tr>\n",
       "      <th>2020-04-01</th>\n",
       "      <td>277.491080</td>\n",
       "      <td>1</td>\n",
       "      <td>15</td>\n",
       "      <td>1</td>\n",
       "      <td>DISCOUNTS</td>\n",
       "      <td>1</td>\n",
       "      <td>10</td>\n",
       "      <td>2020</td>\n",
       "      <td>4</td>\n",
       "    </tr>\n",
       "  </tbody>\n",
       "</table>\n",
       "<p>5793 rows × 9 columns</p>\n",
       "</div>"
      ],
      "text/plain": [
       "                                      volume_kg  distribution_channel  \\\n",
       "serie_name             date                                             \n",
       "0_1_1_FOOD SERVICE_3_3 2010-01-01    460.026585                     0   \n",
       "                       2010-02-01    456.944328                     0   \n",
       "                       2010-03-01    926.790243                     0   \n",
       "                       2010-04-01    762.549167                     0   \n",
       "                       2010-05-01   1132.060704                     0   \n",
       "...                                         ...                   ...   \n",
       "1_15_1_DISCOUNTS_1_10  2019-12-01    938.077344                     1   \n",
       "                       2020-01-01    464.815891                     1   \n",
       "                       2020-02-01    471.421097                     1   \n",
       "                       2020-03-01  12611.841468                     1   \n",
       "                       2020-04-01    277.491080                     1   \n",
       "\n",
       "                                   customer  brand       channel  \\\n",
       "serie_name             date                                        \n",
       "0_1_1_FOOD SERVICE_3_3 2010-01-01         1      1  FOOD SERVICE   \n",
       "                       2010-02-01         1      1  FOOD SERVICE   \n",
       "                       2010-03-01         1      1  FOOD SERVICE   \n",
       "                       2010-04-01         1      1  FOOD SERVICE   \n",
       "                       2010-05-01         1      1  FOOD SERVICE   \n",
       "...                                     ...    ...           ...   \n",
       "1_15_1_DISCOUNTS_1_10  2019-12-01        15      1     DISCOUNTS   \n",
       "                       2020-01-01        15      1     DISCOUNTS   \n",
       "                       2020-02-01        15      1     DISCOUNTS   \n",
       "                       2020-03-01        15      1     DISCOUNTS   \n",
       "                       2020-04-01        15      1     DISCOUNTS   \n",
       "\n",
       "                                   store_format  category  year  month  \n",
       "serie_name             date                                             \n",
       "0_1_1_FOOD SERVICE_3_3 2010-01-01             3         3  2010      1  \n",
       "                       2010-02-01             3         3  2010      2  \n",
       "                       2010-03-01             3         3  2010      3  \n",
       "                       2010-04-01             3         3  2010      4  \n",
       "                       2010-05-01             3         3  2010      5  \n",
       "...                                         ...       ...   ...    ...  \n",
       "1_15_1_DISCOUNTS_1_10  2019-12-01             1        10  2019     12  \n",
       "                       2020-01-01             1        10  2020      1  \n",
       "                       2020-02-01             1        10  2020      2  \n",
       "                       2020-03-01             1        10  2020      3  \n",
       "                       2020-04-01             1        10  2020      4  \n",
       "\n",
       "[5793 rows x 9 columns]"
      ]
     },
     "execution_count": 9,
     "metadata": {},
     "output_type": "execute_result"
    }
   ],
   "source": [
    "df_train"
   ]
  },
  {
   "cell_type": "markdown",
   "metadata": {},
   "source": [
    "Build External Features:"
   ]
  },
  {
   "cell_type": "markdown",
   "metadata": {},
   "source": [
    "## Best Baseline Code:"
   ]
  },
  {
   "cell_type": "code",
   "execution_count": 11,
   "metadata": {},
   "outputs": [],
   "source": [
    "import pandas as pd\n",
    "from prophet import Prophet\n",
    "from tqdm import tqdm\n",
    "import numpy as np\n",
    "\n",
    "def prepare_data_prophet(ts):\n",
    "    ts = ts.asfreq('MS')\n",
    "    ts.interpolate(inplace=True)\n",
    "    \n",
    "    # Apply log transformation\n",
    "    ts['volume_kg'] = np.log(ts['volume_kg'])\n",
    "    \n",
    "    data_tr = ts\n",
    "\n",
    "    # Add rolling statistics\n",
    "    data_tr['rolling_mean_3'] = data_tr['volume_kg'].rolling(window=3).mean()\n",
    "    data_tr['rolling_std_3'] = data_tr['volume_kg'].rolling(window=3).std()\n",
    "\n",
    "    data_tr['rolling_mean_10'] = data_tr['volume_kg'].rolling(window=10).mean()\n",
    "    data_tr['rolling_std_10'] = data_tr['volume_kg'].rolling(window=10).std()\n",
    "\n",
    "    data_tr['rolling_mean_15'] = data_tr['volume_kg'].rolling(window=15).mean()\n",
    "    data_tr['rolling_std_15'] = data_tr['volume_kg'].rolling(window=15).std()\n",
    "\n",
    "    # Add difference features\n",
    "    data_tr['volume_diff1'] = data_tr['volume_kg'].diff(1)\n",
    "\n",
    "    data_tr.reset_index(inplace=True)\n",
    "    data_tr.rename(columns={'date': 'ds', 'volume_kg': 'y'}, inplace=True)\n",
    "\n",
    "    data_tr.dropna(inplace=True)\n",
    "    \n",
    "    return data_tr\n",
    "\n",
    "def train_and_predict_prophet(ts, periods=4):\n",
    "    ts_prepared = prepare_data_prophet(ts)\n",
    "    \n",
    "    model = Prophet(\n",
    "        yearly_seasonality=True,\n",
    "        daily_seasonality=False,\n",
    "        changepoint_prior_scale=0.05,\n",
    "        seasonality_prior_scale=10.0\n",
    "    )\n",
    "    \n",
    "    # Adding additional seasonalities\n",
    "    model.add_seasonality(name='monthly', period=30.5, fourier_order=5)\n",
    "    model.add_seasonality(name='weekly', period=7, fourier_order=3)\n",
    "\n",
    "    # Adding month and year as regressors\n",
    "    model.add_regressor('month')\n",
    "    model.add_regressor('year')\n",
    "\n",
    "    model.fit(ts_prepared)\n",
    "    \n",
    "    future = model.make_future_dataframe(periods=periods, freq='MS')\n",
    "    forecast = model.predict(future)\n",
    "\n",
    "    # Inverse the log transformation\n",
    "    forecast['yhat'] = np.exp(forecast['yhat'])\n",
    "\n",
    "    return forecast[['ds', 'yhat']].tail(periods)\n",
    "\n",
    "def create_submission_prophet(df_train, periods=4):\n",
    "    unique_series = df_train.index.get_level_values(0).unique()\n",
    "    all_predictions = []\n",
    "\n",
    "    progress_bar = tqdm(total=len(unique_series))\n",
    "    progress_bar.set_description(\"Evaluating series\")\n",
    "\n",
    "    for series in unique_series:\n",
    "        ts = df_train.loc[series]\n",
    "        predictions = train_and_predict_prophet(ts, periods)\n",
    "        \n",
    "        for _, row in predictions.iterrows():\n",
    "            all_predictions.append({\n",
    "                'id': f\"{row['ds'].year}_{row['ds'].month}_{series}\",\n",
    "                'volume_kg': row['yhat']\n",
    "            })\n",
    "        progress_bar.update(1)\n",
    "    \n",
    "    submission_df = pd.DataFrame(all_predictions)\n",
    "    submission_df.to_csv('submissionProphet12.csv', index=False)\n",
    "    print(\"Submission file created with name 'submission.csv'\")"
   ]
  },
  {
   "cell_type": "markdown",
   "metadata": {},
   "source": [
    "## Adding Extra Regressors"
   ]
  },
  {
   "cell_type": "code",
   "execution_count": 12,
   "metadata": {},
   "outputs": [],
   "source": [
    "import pandas as pd\n",
    "from prophet import Prophet\n",
    "from tqdm import tqdm\n",
    "import numpy as np\n",
    "\n",
    "def prepare_data_prophet(ts):\n",
    "    ts = ts.asfreq('MS')\n",
    "    ts.interpolate(inplace=True)\n",
    "    \n",
    "    # Apply log transformation\n",
    "    ts['volume_kg'] = np.log(ts['volume_kg'])\n",
    "    \n",
    "    data_tr = ts\n",
    "\n",
    "    # Add rolling statistics\n",
    "    data_tr['rolling_mean_3'] = data_tr['volume_kg'].rolling(window=3).mean()\n",
    "    data_tr['rolling_std_3'] = data_tr['volume_kg'].rolling(window=3).std()\n",
    "\n",
    "    data_tr['rolling_mean_10'] = data_tr['volume_kg'].rolling(window=10).mean()\n",
    "    data_tr['rolling_std_10'] = data_tr['volume_kg'].rolling(window=10).std()\n",
    "\n",
    "    data_tr['rolling_mean_15'] = data_tr['volume_kg'].rolling(window=15).mean()\n",
    "    data_tr['rolling_std_15'] = data_tr['volume_kg'].rolling(window=15).std()\n",
    "\n",
    "    # Add difference features\n",
    "    data_tr['volume_diff1'] = data_tr['volume_kg'].diff(1)\n",
    "\n",
    "    data_tr.reset_index(inplace=True)\n",
    "    data_tr.rename(columns={'date': 'ds', 'volume_kg': 'y'}, inplace=True)\n",
    "\n",
    "    # Add month and year as regressors\n",
    "    data_tr['month'] = data_tr['ds'].dt.month\n",
    "    data_tr['year'] = data_tr['ds'].dt.year\n",
    "\n",
    "    data_tr.dropna(inplace=True)\n",
    "    \n",
    "    return data_tr\n",
    "\n",
    "def train_and_predict_prophet(ts, periods=4):\n",
    "    ts_prepared = prepare_data_prophet(ts)\n",
    "    \n",
    "    model = Prophet(\n",
    "        yearly_seasonality=True,\n",
    "        daily_seasonality=False,\n",
    "        changepoint_prior_scale=0.05,\n",
    "        seasonality_prior_scale=10.0\n",
    "    )\n",
    "    \n",
    "    # Adding additional seasonalities\n",
    "    model.add_seasonality(name='monthly', period=30.5, fourier_order=5)\n",
    "    model.add_seasonality(name='weekly', period=7, fourier_order=3)\n",
    "\n",
    "    # Adding month and year as regressors\n",
    "    model.add_regressor('month')\n",
    "    model.add_regressor('year')\n",
    "\n",
    "    model.fit(ts_prepared)\n",
    "    \n",
    "    future = model.make_future_dataframe(periods=periods, freq='MS')\n",
    "    # Add future values for regressors\n",
    "    future['month'] = future['ds'].dt.month\n",
    "    future['year'] = future['ds'].dt.year\n",
    "\n",
    "    forecast = model.predict(future)\n",
    "\n",
    "    # Inverse the log transformation\n",
    "    forecast['yhat'] = np.exp(forecast['yhat'])\n",
    "\n",
    "    return forecast[['ds', 'yhat']].tail(periods)\n",
    "\n",
    "def create_submission_prophet(df_train, periods=4):\n",
    "    unique_series = df_train.index.get_level_values(0).unique()\n",
    "    all_predictions = []\n",
    "\n",
    "    progress_bar = tqdm(total=len(unique_series))\n",
    "    progress_bar.set_description(\"Evaluating series\")\n",
    "\n",
    "    for series in unique_series:\n",
    "        ts = df_train.loc[series]\n",
    "        predictions = train_and_predict_prophet(ts, periods)\n",
    "        \n",
    "        for _, row in predictions.iterrows():\n",
    "            all_predictions.append({\n",
    "                'id': f\"{row['ds'].year}_{row['ds'].month}_{series}\",\n",
    "                'volume_kg': row['yhat']\n",
    "            })\n",
    "        progress_bar.update(1)\n",
    "    \n",
    "    submission_df = pd.DataFrame(all_predictions)\n",
    "    submission_df.to_csv('submissionProphet12.csv', index=False)\n",
    "    print(\"Submission file created with name 'submission.csv'\")"
   ]
  },
  {
   "cell_type": "code",
   "execution_count": 13,
   "metadata": {},
   "outputs": [
    {
     "name": "stderr",
     "output_type": "stream",
     "text": [
      "Evaluating series: 100%|██████████| 48/48 [00:25<00:00,  1.87it/s]"
     ]
    },
    {
     "name": "stdout",
     "output_type": "stream",
     "text": [
      "Submission file created with name 'submission.csv'\n"
     ]
    },
    {
     "name": "stderr",
     "output_type": "stream",
     "text": [
      "\n"
     ]
    }
   ],
   "source": [
    "create_submission_prophet(df_train)"
   ]
  },
  {
   "cell_type": "markdown",
   "metadata": {},
   "source": [
    "## Cross Validate"
   ]
  },
  {
   "cell_type": "code",
   "execution_count": 14,
   "metadata": {},
   "outputs": [],
   "source": [
    "import pandas as pd\n",
    "from prophet import Prophet\n",
    "from tqdm import tqdm\n",
    "import numpy as np\n",
    "from sklearn.model_selection import TimeSeriesSplit\n",
    "from sklearn.metrics import mean_squared_error\n",
    "\n",
    "def prepare_data_prophet(ts):\n",
    "    ts = ts.asfreq('MS')\n",
    "    ts.interpolate(inplace=True)\n",
    "    \n",
    "    # Apply log transformation\n",
    "    ts['volume_kg'] = np.log(ts['volume_kg'])\n",
    "    \n",
    "    data_tr = ts\n",
    "\n",
    "    # Add rolling statistics\n",
    "    data_tr['rolling_mean_3'] = data_tr['volume_kg'].rolling(window=3).mean()\n",
    "    data_tr['rolling_std_3'] = data_tr['volume_kg'].rolling(window=3).std()\n",
    "\n",
    "    data_tr['rolling_mean_10'] = data_tr['volume_kg'].rolling(window=10).mean()\n",
    "    data_tr['rolling_std_10'] = data_tr['volume_kg'].rolling(window=10).std()\n",
    "\n",
    "    data_tr['rolling_mean_15'] = data_tr['volume_kg'].rolling(window=15).mean()\n",
    "    data_tr['rolling_std_15'] = data_tr['volume_kg'].rolling(window=15).std()\n",
    "\n",
    "    # Add difference features\n",
    "    data_tr['volume_diff1'] = data_tr['volume_kg'].diff(1)\n",
    "\n",
    "    data_tr.reset_index(inplace=True)\n",
    "    data_tr.rename(columns={'date': 'ds', 'volume_kg': 'y'}, inplace=True)\n",
    "\n",
    "    # Add month and year as regressors\n",
    "    data_tr['month'] = data_tr['ds'].dt.month\n",
    "    data_tr['year'] = data_tr['ds'].dt.year\n",
    "\n",
    "    data_tr.dropna(inplace=True)\n",
    "    \n",
    "    return data_tr\n",
    "\n",
    "def train_and_predict_prophet(ts, periods=4):\n",
    "    ts_prepared = prepare_data_prophet(ts)\n",
    "    \n",
    "    model = Prophet(\n",
    "        yearly_seasonality=True,\n",
    "        daily_seasonality=False,\n",
    "        changepoint_prior_scale=0.05,\n",
    "        seasonality_prior_scale=10.0\n",
    "    )\n",
    "    \n",
    "    # Adding additional seasonalities\n",
    "    model.add_seasonality(name='monthly', period=30.5, fourier_order=5)\n",
    "    model.add_seasonality(name='weekly', period=7, fourier_order=3)\n",
    "\n",
    "    # Adding month and year as regressors\n",
    "    model.add_regressor('month')\n",
    "    model.add_regressor('year')\n",
    "\n",
    "    model.fit(ts_prepared)\n",
    "    \n",
    "    future = model.make_future_dataframe(periods=periods, freq='MS')\n",
    "    # Add future values for regressors\n",
    "    future['month'] = future['ds'].dt.month\n",
    "    future['year'] = future['ds'].dt.year\n",
    "\n",
    "    forecast = model.predict(future)\n",
    "\n",
    "    # Inverse the log transformation\n",
    "    forecast['yhat'] = np.exp(forecast['yhat'])\n",
    "\n",
    "    return forecast[['ds', 'yhat']].tail(periods)\n",
    "\n",
    "def cross_validate_prophet(ts, n_splits=5):\n",
    "    tscv = TimeSeriesSplit(n_splits=n_splits)\n",
    "    ts_prepared = prepare_data_prophet(ts)\n",
    "    \n",
    "    errors = []\n",
    "    \n",
    "    for train_index, test_index in tscv.split(ts_prepared):\n",
    "        train_data = ts_prepared.iloc[train_index]\n",
    "        test_data = ts_prepared.iloc[test_index]\n",
    "        \n",
    "        model = Prophet(\n",
    "            yearly_seasonality=True,\n",
    "            daily_seasonality=False,\n",
    "            changepoint_prior_scale=0.001, \n",
    "            seasonality_prior_scale=20.0\n",
    "        )\n",
    "        \n",
    "        model.add_seasonality(name='monthly', period=30.5, fourier_order=3)\n",
    "        model.add_seasonality(name='weekly', period=7, fourier_order=2)\n",
    "        \n",
    "        # Adding month and year as regressors\n",
    "        model.add_regressor('month')\n",
    "        model.add_regressor('year')\n",
    "        \n",
    "        model.fit(train_data)\n",
    "        \n",
    "        future = model.make_future_dataframe(periods=len(test_data), freq='MS')\n",
    "        future['month'] = future['ds'].dt.month\n",
    "        future['year'] = future['ds'].dt.year\n",
    "        \n",
    "        forecast = model.predict(future)\n",
    "        forecast['yhat'] = np.exp(forecast['yhat'])\n",
    "        \n",
    "        error = mean_squared_error(test_data['y'], forecast['yhat'][:len(test_data)])\n",
    "        errors.append(error)\n",
    "    \n",
    "    return np.mean(errors), np.std(errors)\n",
    "\n",
    "def create_submission_prophet(df_train, periods=4):\n",
    "    unique_series = df_train.index.get_level_values(0).unique()\n",
    "    all_predictions = []\n",
    "\n",
    "    progress_bar = tqdm(total=len(unique_series))\n",
    "    progress_bar.set_description(\"Evaluating series\")\n",
    "\n",
    "    for series in unique_series:\n",
    "        ts = df_train.loc[series]\n",
    "        mean_error, std_error = cross_validate_prophet(ts, n_splits=5)\n",
    "        print(f'Series: {series} - Mean CV Error: {mean_error}, Std CV Error: {std_error}')\n",
    "        \n",
    "        predictions = train_and_predict_prophet(ts, periods)\n",
    "        \n",
    "        for _, row in predictions.iterrows():\n",
    "            all_predictions.append({\n",
    "                'id': f\"{row['ds'].year}_{row['ds'].month}_{series}\",\n",
    "                'volume_kg': row['yhat']\n",
    "            })\n",
    "        progress_bar.update(1)\n",
    "    \n",
    "    submission_df = pd.DataFrame(all_predictions)\n",
    "    submission_df.to_csv('submissionProphet12CV.csv', index=False)\n",
    "    print(\"Submission file created with name 'submissionProphet12.csv'\")\n"
   ]
  },
  {
   "cell_type": "code",
   "execution_count": 15,
   "metadata": {},
   "outputs": [
    {
     "name": "stderr",
     "output_type": "stream",
     "text": [
      "Evaluating series:   0%|          | 0/48 [00:00<?, ?it/s]"
     ]
    },
    {
     "name": "stdout",
     "output_type": "stream",
     "text": [
      "Series: 0_1_1_FOOD SERVICE_3_3 - Mean CV Error: 748908.7010479047, Std CV Error: 45593.57614000051\n"
     ]
    },
    {
     "name": "stderr",
     "output_type": "stream",
     "text": [
      "Evaluating series:   2%|▏         | 1/48 [00:07<05:54,  7.54s/it]"
     ]
    },
    {
     "name": "stdout",
     "output_type": "stream",
     "text": [
      "Series: 0_1_1_FOOD SERVICE_3_6 - Mean CV Error: 33012442.991395913, Std CV Error: 1226862.3081144663\n"
     ]
    },
    {
     "name": "stderr",
     "output_type": "stream",
     "text": [
      "Evaluating series:   4%|▍         | 2/48 [00:15<05:48,  7.57s/it]"
     ]
    },
    {
     "name": "stdout",
     "output_type": "stream",
     "text": [
      "Series: 0_1_1_FOOD SERVICE_3_10 - Mean CV Error: 103965870.53312238, Std CV Error: 1481606.8423748396\n"
     ]
    },
    {
     "name": "stderr",
     "output_type": "stream",
     "text": [
      "Evaluating series:   6%|▋         | 3/48 [00:23<05:55,  7.91s/it]"
     ]
    },
    {
     "name": "stdout",
     "output_type": "stream",
     "text": [
      "Series: 0_1_2_FOOD SERVICE_3_10 - Mean CV Error: 7475157.32632422, Std CV Error: 279750.90251480805\n"
     ]
    },
    {
     "name": "stderr",
     "output_type": "stream",
     "text": [
      "Evaluating series:   8%|▊         | 4/48 [00:30<05:28,  7.46s/it]"
     ]
    },
    {
     "name": "stdout",
     "output_type": "stream",
     "text": [
      "Series: 0_4_0_FOOD SERVICE_3_10 - Mean CV Error: 504702477.736447, Std CV Error: 25607854.038154416\n"
     ]
    },
    {
     "name": "stderr",
     "output_type": "stream",
     "text": [
      "Evaluating series:  10%|█         | 5/48 [00:36<05:06,  7.12s/it]"
     ]
    },
    {
     "name": "stdout",
     "output_type": "stream",
     "text": [
      "Series: 0_4_1_FOOD SERVICE_3_6 - Mean CV Error: 466974.7314077279, Std CV Error: 31994.70174166079\n"
     ]
    },
    {
     "name": "stderr",
     "output_type": "stream",
     "text": [
      "Evaluating series:  12%|█▎        | 6/48 [00:45<05:23,  7.70s/it]"
     ]
    },
    {
     "name": "stdout",
     "output_type": "stream",
     "text": [
      "Series: 0_4_1_FOOD SERVICE_3_10 - Mean CV Error: 1008112165.2451952, Std CV Error: 14717864.906557314\n"
     ]
    },
    {
     "name": "stderr",
     "output_type": "stream",
     "text": [
      "Evaluating series:  15%|█▍        | 7/48 [00:50<04:32,  6.66s/it]"
     ]
    },
    {
     "name": "stdout",
     "output_type": "stream",
     "text": [
      "Series: 0_4_2_FOOD SERVICE_3_10 - Mean CV Error: 63374509.52925799, Std CV Error: 1571556.3665845867\n"
     ]
    },
    {
     "name": "stderr",
     "output_type": "stream",
     "text": [
      "Evaluating series:  17%|█▋        | 8/48 [00:54<03:55,  5.88s/it]"
     ]
    },
    {
     "name": "stdout",
     "output_type": "stream",
     "text": [
      "Series: 0_4_3_FOOD SERVICE_3_10 - Mean CV Error: 4358346909.377, Std CV Error: 59651156.38299683\n"
     ]
    },
    {
     "name": "stderr",
     "output_type": "stream",
     "text": [
      "Evaluating series:  19%|█▉        | 9/48 [01:01<04:02,  6.23s/it]"
     ]
    },
    {
     "name": "stdout",
     "output_type": "stream",
     "text": [
      "Series: 0_5_0_FOOD SERVICE_3_10 - Mean CV Error: 236525221.1336947, Std CV Error: 6619111.121451176\n"
     ]
    },
    {
     "name": "stderr",
     "output_type": "stream",
     "text": [
      "Evaluating series:  21%|██        | 10/48 [01:07<03:56,  6.22s/it]"
     ]
    },
    {
     "name": "stdout",
     "output_type": "stream",
     "text": [
      "Series: 0_5_1_FOOD SERVICE_3_3 - Mean CV Error: 293292.7838635872, Std CV Error: 15429.043321633511\n"
     ]
    },
    {
     "name": "stderr",
     "output_type": "stream",
     "text": [
      "Evaluating series:  23%|██▎       | 11/48 [01:11<03:27,  5.61s/it]"
     ]
    },
    {
     "name": "stdout",
     "output_type": "stream",
     "text": [
      "Series: 0_5_1_FOOD SERVICE_3_6 - Mean CV Error: 2666301.383396618, Std CV Error: 316083.8232025989\n"
     ]
    },
    {
     "name": "stderr",
     "output_type": "stream",
     "text": [
      "Evaluating series:  25%|██▌       | 12/48 [01:16<03:10,  5.30s/it]"
     ]
    },
    {
     "name": "stdout",
     "output_type": "stream",
     "text": [
      "Series: 0_5_1_FOOD SERVICE_3_10 - Mean CV Error: 378725921.3459822, Std CV Error: 7937824.825262313\n"
     ]
    },
    {
     "name": "stderr",
     "output_type": "stream",
     "text": [
      "Evaluating series:  27%|██▋       | 13/48 [01:22<03:11,  5.48s/it]"
     ]
    },
    {
     "name": "stdout",
     "output_type": "stream",
     "text": [
      "Series: 0_5_2_FOOD SERVICE_3_10 - Mean CV Error: 22671104.13107229, Std CV Error: 421578.2069329292\n"
     ]
    },
    {
     "name": "stderr",
     "output_type": "stream",
     "text": [
      "Evaluating series:  29%|██▉       | 14/48 [01:32<03:52,  6.84s/it]"
     ]
    },
    {
     "name": "stdout",
     "output_type": "stream",
     "text": [
      "Series: 0_5_3_FOOD SERVICE_3_10 - Mean CV Error: 1410496293.0898323, Std CV Error: 53638792.3644142\n"
     ]
    },
    {
     "name": "stderr",
     "output_type": "stream",
     "text": [
      "Evaluating series:  31%|███▏      | 15/48 [01:36<03:24,  6.21s/it]"
     ]
    },
    {
     "name": "stdout",
     "output_type": "stream",
     "text": [
      "Series: 0_6_0_FOOD SERVICE_3_10 - Mean CV Error: 2008959.3609661073, Std CV Error: 189666.16784081445\n"
     ]
    },
    {
     "name": "stderr",
     "output_type": "stream",
     "text": [
      "Evaluating series:  33%|███▎      | 16/48 [01:54<05:08,  9.63s/it]"
     ]
    },
    {
     "name": "stdout",
     "output_type": "stream",
     "text": [
      "Series: 0_6_1_FOOD SERVICE_3_6 - Mean CV Error: 24459709.045565605, Std CV Error: 681948.1783585914\n"
     ]
    },
    {
     "name": "stderr",
     "output_type": "stream",
     "text": [
      "Evaluating series:  35%|███▌      | 17/48 [01:59<04:14,  8.22s/it]"
     ]
    },
    {
     "name": "stdout",
     "output_type": "stream",
     "text": [
      "Series: 0_6_1_FOOD SERVICE_3_10 - Mean CV Error: 4820961.334027681, Std CV Error: 609332.7749891076\n"
     ]
    },
    {
     "name": "stderr",
     "output_type": "stream",
     "text": [
      "Evaluating series:  38%|███▊      | 18/48 [02:04<03:41,  7.38s/it]"
     ]
    },
    {
     "name": "stdout",
     "output_type": "stream",
     "text": [
      "Series: 0_6_2_FOOD SERVICE_3_10 - Mean CV Error: 78472.8777659535, Std CV Error: 13433.643940711554\n"
     ]
    },
    {
     "name": "stderr",
     "output_type": "stream",
     "text": [
      "Evaluating series:  40%|███▉      | 19/48 [02:11<03:31,  7.30s/it]"
     ]
    },
    {
     "name": "stdout",
     "output_type": "stream",
     "text": [
      "Series: 0_6_3_FOOD SERVICE_3_10 - Mean CV Error: 35331350.38861004, Std CV Error: 1526305.8347457687\n"
     ]
    },
    {
     "name": "stderr",
     "output_type": "stream",
     "text": [
      "Evaluating series:  42%|████▏     | 20/48 [02:19<03:24,  7.29s/it]"
     ]
    },
    {
     "name": "stdout",
     "output_type": "stream",
     "text": [
      "Series: 0_8_0_FOOD SERVICE_3_10 - Mean CV Error: 7347013.65034582, Std CV Error: 222563.35121756027\n"
     ]
    },
    {
     "name": "stderr",
     "output_type": "stream",
     "text": [
      "Evaluating series:  44%|████▍     | 21/48 [02:23<02:50,  6.31s/it]"
     ]
    },
    {
     "name": "stdout",
     "output_type": "stream",
     "text": [
      "Series: 0_8_1_FOOD SERVICE_3_3 - Mean CV Error: 18097.680917922273, Std CV Error: 1081.2614906149247\n"
     ]
    },
    {
     "name": "stderr",
     "output_type": "stream",
     "text": [
      "Evaluating series:  46%|████▌     | 22/48 [02:28<02:37,  6.05s/it]"
     ]
    },
    {
     "name": "stdout",
     "output_type": "stream",
     "text": [
      "Series: 0_8_1_FOOD SERVICE_3_6 - Mean CV Error: 5439.195346232945, Std CV Error: 496.47931377984685\n"
     ]
    },
    {
     "name": "stderr",
     "output_type": "stream",
     "text": [
      "Evaluating series:  48%|████▊     | 23/48 [02:33<02:24,  5.76s/it]"
     ]
    },
    {
     "name": "stdout",
     "output_type": "stream",
     "text": [
      "Series: 0_8_1_FOOD SERVICE_3_10 - Mean CV Error: 1196921.282381493, Std CV Error: 42075.951851986734\n"
     ]
    },
    {
     "name": "stderr",
     "output_type": "stream",
     "text": [
      "Evaluating series:  50%|█████     | 24/48 [02:38<02:10,  5.46s/it]"
     ]
    },
    {
     "name": "stdout",
     "output_type": "stream",
     "text": [
      "Series: 0_8_2_FOOD SERVICE_3_10 - Mean CV Error: 65796.11719649982, Std CV Error: 2387.85493582773\n"
     ]
    },
    {
     "name": "stderr",
     "output_type": "stream",
     "text": [
      "Evaluating series:  52%|█████▏    | 25/48 [02:50<02:52,  7.50s/it]"
     ]
    },
    {
     "name": "stdout",
     "output_type": "stream",
     "text": [
      "Series: 0_8_3_FOOD SERVICE_3_10 - Mean CV Error: 113184505.80297962, Std CV Error: 3112699.0888702082\n"
     ]
    },
    {
     "name": "stderr",
     "output_type": "stream",
     "text": [
      "Evaluating series:  54%|█████▍    | 26/48 [02:54<02:21,  6.45s/it]"
     ]
    },
    {
     "name": "stdout",
     "output_type": "stream",
     "text": [
      "Series: 1_2_1_DISCOUNTS_1_10 - Mean CV Error: 1668940218.8813565, Std CV Error: 51981026.65113935\n"
     ]
    },
    {
     "name": "stderr",
     "output_type": "stream",
     "text": [
      "Evaluating series:  56%|█████▋    | 27/48 [02:59<02:02,  5.84s/it]"
     ]
    },
    {
     "name": "stdout",
     "output_type": "stream",
     "text": [
      "Series: 1_2_2_DISCOUNTS_1_10 - Mean CV Error: 136110242.6071391, Std CV Error: 6641553.614167711\n"
     ]
    },
    {
     "name": "stderr",
     "output_type": "stream",
     "text": [
      "Evaluating series:  58%|█████▊    | 28/48 [03:04<01:53,  5.65s/it]"
     ]
    },
    {
     "name": "stdout",
     "output_type": "stream",
     "text": [
      "Series: 1_10_1_MODERN TRADE_2_6 - Mean CV Error: 8362647.169605334, Std CV Error: 574856.6820737313\n"
     ]
    },
    {
     "name": "stderr",
     "output_type": "stream",
     "text": [
      "Evaluating series:  60%|██████    | 29/48 [03:09<01:42,  5.41s/it]"
     ]
    },
    {
     "name": "stdout",
     "output_type": "stream",
     "text": [
      "Series: 1_10_1_MODERN TRADE_2_10 - Mean CV Error: 40283458942.31836, Std CV Error: 480160062.76504755\n"
     ]
    },
    {
     "name": "stderr",
     "output_type": "stream",
     "text": [
      "Evaluating series:  62%|██████▎   | 30/48 [03:15<01:41,  5.64s/it]"
     ]
    },
    {
     "name": "stdout",
     "output_type": "stream",
     "text": [
      "Series: 1_10_2_MODERN TRADE_2_10 - Mean CV Error: 2260600590.8683343, Std CV Error: 55615097.12084707\n"
     ]
    },
    {
     "name": "stderr",
     "output_type": "stream",
     "text": [
      "Evaluating series:  65%|██████▍   | 31/48 [03:20<01:34,  5.54s/it]"
     ]
    },
    {
     "name": "stdout",
     "output_type": "stream",
     "text": [
      "Series: 1_11_1_MODERN TRADE_2_3 - Mean CV Error: 20833697.905106578, Std CV Error: 1952263.626277654\n"
     ]
    },
    {
     "name": "stderr",
     "output_type": "stream",
     "text": [
      "Evaluating series:  67%|██████▋   | 32/48 [03:26<01:29,  5.62s/it]"
     ]
    },
    {
     "name": "stdout",
     "output_type": "stream",
     "text": [
      "Series: 1_11_1_MODERN TRADE_2_6 - Mean CV Error: 263941.5739348813, Std CV Error: 11297.428441710359\n"
     ]
    },
    {
     "name": "stderr",
     "output_type": "stream",
     "text": [
      "Evaluating series:  69%|██████▉   | 33/48 [03:36<01:43,  6.91s/it]"
     ]
    },
    {
     "name": "stdout",
     "output_type": "stream",
     "text": [
      "Series: 1_11_1_MODERN TRADE_2_10 - Mean CV Error: 2116020162.444791, Std CV Error: 24470403.625409804\n"
     ]
    },
    {
     "name": "stderr",
     "output_type": "stream",
     "text": [
      "Evaluating series:  71%|███████   | 34/48 [03:40<01:26,  6.14s/it]"
     ]
    },
    {
     "name": "stdout",
     "output_type": "stream",
     "text": [
      "Series: 1_11_2_MODERN TRADE_2_10 - Mean CV Error: 126107320.66479528, Std CV Error: 9956497.553405946\n"
     ]
    },
    {
     "name": "stderr",
     "output_type": "stream",
     "text": [
      "Evaluating series:  73%|███████▎  | 35/48 [03:49<01:29,  6.92s/it]"
     ]
    },
    {
     "name": "stdout",
     "output_type": "stream",
     "text": [
      "Series: 1_12_1_MODERN TRADE_2_3 - Mean CV Error: 1628533556.2104647, Std CV Error: 41046921.87459719\n"
     ]
    },
    {
     "name": "stderr",
     "output_type": "stream",
     "text": [
      "Evaluating series:  75%|███████▌  | 36/48 [03:54<01:14,  6.25s/it]"
     ]
    },
    {
     "name": "stdout",
     "output_type": "stream",
     "text": [
      "Series: 1_12_1_MODERN TRADE_2_6 - Mean CV Error: 23447564.219938178, Std CV Error: 118009.41487623946\n"
     ]
    },
    {
     "name": "stderr",
     "output_type": "stream",
     "text": [
      "Evaluating series:  77%|███████▋  | 37/48 [03:58<01:01,  5.61s/it]"
     ]
    },
    {
     "name": "stdout",
     "output_type": "stream",
     "text": [
      "Series: 1_12_1_MODERN TRADE_2_8 - Mean CV Error: 5965978.110874774, Std CV Error: 169405.27913893166\n"
     ]
    },
    {
     "name": "stderr",
     "output_type": "stream",
     "text": [
      "Evaluating series:  79%|███████▉  | 38/48 [04:02<00:51,  5.13s/it]"
     ]
    },
    {
     "name": "stdout",
     "output_type": "stream",
     "text": [
      "Series: 1_12_1_MODERN TRADE_2_10 - Mean CV Error: 196087566224.41632, Std CV Error: 3531540388.373074\n"
     ]
    },
    {
     "name": "stderr",
     "output_type": "stream",
     "text": [
      "Evaluating series:  81%|████████▏ | 39/48 [04:08<00:47,  5.28s/it]"
     ]
    },
    {
     "name": "stdout",
     "output_type": "stream",
     "text": [
      "Series: 1_12_2_MODERN TRADE_2_10 - Mean CV Error: 12118340631.097448, Std CV Error: 150561012.7379003\n"
     ]
    },
    {
     "name": "stderr",
     "output_type": "stream",
     "text": [
      "Evaluating series:  83%|████████▎ | 40/48 [04:17<00:52,  6.56s/it]"
     ]
    },
    {
     "name": "stdout",
     "output_type": "stream",
     "text": [
      "Series: 1_14_0_MODERN TRADE_2_10 - Mean CV Error: 1615960.4167680473, Std CV Error: 78952.60112530585\n"
     ]
    },
    {
     "name": "stderr",
     "output_type": "stream",
     "text": [
      "Evaluating series:  85%|████████▌ | 41/48 [04:23<00:45,  6.48s/it]"
     ]
    },
    {
     "name": "stdout",
     "output_type": "stream",
     "text": [
      "Series: 1_14_1_MODERN TRADE_2_3 - Mean CV Error: 247779394.97382537, Std CV Error: 7718163.476701297\n"
     ]
    },
    {
     "name": "stderr",
     "output_type": "stream",
     "text": [
      "Evaluating series:  88%|████████▊ | 42/48 [04:29<00:37,  6.31s/it]"
     ]
    },
    {
     "name": "stdout",
     "output_type": "stream",
     "text": [
      "Series: 1_14_1_MODERN TRADE_2_6 - Mean CV Error: 6994620.690120453, Std CV Error: 171139.5020247154\n"
     ]
    },
    {
     "name": "stderr",
     "output_type": "stream",
     "text": [
      "Evaluating series:  90%|████████▉ | 43/48 [04:35<00:30,  6.08s/it]"
     ]
    },
    {
     "name": "stdout",
     "output_type": "stream",
     "text": [
      "Series: 1_14_1_MODERN TRADE_2_8 - Mean CV Error: 779497.3005939715, Std CV Error: 53029.66958294754\n"
     ]
    },
    {
     "name": "stderr",
     "output_type": "stream",
     "text": [
      "Evaluating series:  92%|█████████▏| 44/48 [04:40<00:22,  5.69s/it]"
     ]
    },
    {
     "name": "stdout",
     "output_type": "stream",
     "text": [
      "Series: 1_14_1_MODERN TRADE_2_10 - Mean CV Error: 36336241158.13809, Std CV Error: 268282579.82814294\n"
     ]
    },
    {
     "name": "stderr",
     "output_type": "stream",
     "text": [
      "Evaluating series:  94%|█████████▍| 45/48 [04:58<00:28,  9.38s/it]"
     ]
    },
    {
     "name": "stdout",
     "output_type": "stream",
     "text": [
      "Series: 1_14_2_MODERN TRADE_2_10 - Mean CV Error: 2118925300.1274712, Std CV Error: 47919856.63322979\n"
     ]
    },
    {
     "name": "stderr",
     "output_type": "stream",
     "text": [
      "Evaluating series:  96%|█████████▌| 46/48 [05:06<00:18,  9.13s/it]"
     ]
    },
    {
     "name": "stdout",
     "output_type": "stream",
     "text": [
      "Series: 1_14_3_MODERN TRADE_2_10 - Mean CV Error: 45849209.58036162, Std CV Error: 1700823.5161645906\n"
     ]
    },
    {
     "name": "stderr",
     "output_type": "stream",
     "text": [
      "Evaluating series:  98%|█████████▊| 47/48 [05:11<00:07,  7.78s/it]"
     ]
    },
    {
     "name": "stdout",
     "output_type": "stream",
     "text": [
      "Series: 1_15_1_DISCOUNTS_1_10 - Mean CV Error: 42247433.916891314, Std CV Error: 5152192.437920338\n"
     ]
    },
    {
     "name": "stderr",
     "output_type": "stream",
     "text": [
      "Evaluating series: 100%|██████████| 48/48 [05:21<00:00,  6.70s/it]"
     ]
    },
    {
     "name": "stdout",
     "output_type": "stream",
     "text": [
      "Submission file created with name 'submissionProphet12.csv'\n"
     ]
    },
    {
     "name": "stderr",
     "output_type": "stream",
     "text": [
      "\n"
     ]
    }
   ],
   "source": [
    "create_submission_prophet(df_train)"
   ]
  }
 ],
 "metadata": {
  "kernelspec": {
   "display_name": "Python 3",
   "language": "python",
   "name": "python3"
  },
  "language_info": {
   "codemirror_mode": {
    "name": "ipython",
    "version": 3
   },
   "file_extension": ".py",
   "mimetype": "text/x-python",
   "name": "python",
   "nbconvert_exporter": "python",
   "pygments_lexer": "ipython3",
   "version": "3.11.7"
  },
  "orig_nbformat": 4
 },
 "nbformat": 4,
 "nbformat_minor": 2
}
